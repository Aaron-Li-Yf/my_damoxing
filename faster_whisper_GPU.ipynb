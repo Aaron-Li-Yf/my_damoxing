{
  "nbformat": 4,
  "nbformat_minor": 0,
  "metadata": {
    "colab": {
      "provenance": [],
      "gpuType": "T4",
      "include_colab_link": true
    },
    "kernelspec": {
      "name": "python3",
      "display_name": "Python 3"
    },
    "language_info": {
      "name": "python"
    },
    "accelerator": "GPU"
  },
  "cells": [
    {
      "cell_type": "markdown",
      "metadata": {
        "id": "view-in-github",
        "colab_type": "text"
      },
      "source": [
        "<a href=\"https://colab.research.google.com/github/Aaron-Li-Yf/my_damoxing/blob/main/faster_whisper_GPU.ipynb\" target=\"_parent\"><img src=\"https://colab.research.google.com/assets/colab-badge.svg\" alt=\"Open In Colab\"/></a>"
      ]
    },
    {
      "cell_type": "markdown",
      "source": [
        "# Step 1 - 切换CPU到GPU"
      ],
      "metadata": {
        "id": "4P4xYUG0FNJ-"
      }
    },
    {
      "cell_type": "markdown",
      "source": [
        "「runtime」→「Change runtime type」→「T4 GPU」"
      ],
      "metadata": {
        "id": "kNAqCaX7v1UH"
      }
    },
    {
      "cell_type": "markdown",
      "source": [
        "# Step 2 - 安裝faster_whisper"
      ],
      "metadata": {
        "id": "DxBzgN_9GW-A"
      }
    },
    {
      "cell_type": "code",
      "source": [
        "!pip install faster_whisper"
      ],
      "metadata": {
        "id": "B2obgdIyfNe0",
        "colab": {
          "base_uri": "https://localhost:8080/"
        },
        "outputId": "f78b3f68-0b5a-4c25-b427-852c907146ab"
      },
      "execution_count": 2,
      "outputs": [
        {
          "output_type": "stream",
          "name": "stdout",
          "text": [
            "Requirement already satisfied: faster_whisper in /usr/local/lib/python3.11/dist-packages (1.1.1)\n",
            "Requirement already satisfied: ctranslate2<5,>=4.0 in /usr/local/lib/python3.11/dist-packages (from faster_whisper) (4.5.0)\n",
            "Requirement already satisfied: huggingface-hub>=0.13 in /usr/local/lib/python3.11/dist-packages (from faster_whisper) (0.27.1)\n",
            "Requirement already satisfied: tokenizers<1,>=0.13 in /usr/local/lib/python3.11/dist-packages (from faster_whisper) (0.21.0)\n",
            "Requirement already satisfied: onnxruntime<2,>=1.14 in /usr/local/lib/python3.11/dist-packages (from faster_whisper) (1.20.1)\n",
            "Requirement already satisfied: av>=11 in /usr/local/lib/python3.11/dist-packages (from faster_whisper) (14.1.0)\n",
            "Requirement already satisfied: tqdm in /usr/local/lib/python3.11/dist-packages (from faster_whisper) (4.67.1)\n",
            "Requirement already satisfied: setuptools in /usr/local/lib/python3.11/dist-packages (from ctranslate2<5,>=4.0->faster_whisper) (75.1.0)\n",
            "Requirement already satisfied: numpy in /usr/local/lib/python3.11/dist-packages (from ctranslate2<5,>=4.0->faster_whisper) (1.26.4)\n",
            "Requirement already satisfied: pyyaml<7,>=5.3 in /usr/local/lib/python3.11/dist-packages (from ctranslate2<5,>=4.0->faster_whisper) (6.0.2)\n",
            "Requirement already satisfied: filelock in /usr/local/lib/python3.11/dist-packages (from huggingface-hub>=0.13->faster_whisper) (3.17.0)\n",
            "Requirement already satisfied: fsspec>=2023.5.0 in /usr/local/lib/python3.11/dist-packages (from huggingface-hub>=0.13->faster_whisper) (2024.10.0)\n",
            "Requirement already satisfied: packaging>=20.9 in /usr/local/lib/python3.11/dist-packages (from huggingface-hub>=0.13->faster_whisper) (24.2)\n",
            "Requirement already satisfied: requests in /usr/local/lib/python3.11/dist-packages (from huggingface-hub>=0.13->faster_whisper) (2.32.3)\n",
            "Requirement already satisfied: typing-extensions>=3.7.4.3 in /usr/local/lib/python3.11/dist-packages (from huggingface-hub>=0.13->faster_whisper) (4.12.2)\n",
            "Requirement already satisfied: coloredlogs in /usr/local/lib/python3.11/dist-packages (from onnxruntime<2,>=1.14->faster_whisper) (15.0.1)\n",
            "Requirement already satisfied: flatbuffers in /usr/local/lib/python3.11/dist-packages (from onnxruntime<2,>=1.14->faster_whisper) (25.1.21)\n",
            "Requirement already satisfied: protobuf in /usr/local/lib/python3.11/dist-packages (from onnxruntime<2,>=1.14->faster_whisper) (4.25.5)\n",
            "Requirement already satisfied: sympy in /usr/local/lib/python3.11/dist-packages (from onnxruntime<2,>=1.14->faster_whisper) (1.13.1)\n",
            "Requirement already satisfied: humanfriendly>=9.1 in /usr/local/lib/python3.11/dist-packages (from coloredlogs->onnxruntime<2,>=1.14->faster_whisper) (10.0)\n",
            "Requirement already satisfied: charset-normalizer<4,>=2 in /usr/local/lib/python3.11/dist-packages (from requests->huggingface-hub>=0.13->faster_whisper) (3.4.1)\n",
            "Requirement already satisfied: idna<4,>=2.5 in /usr/local/lib/python3.11/dist-packages (from requests->huggingface-hub>=0.13->faster_whisper) (3.10)\n",
            "Requirement already satisfied: urllib3<3,>=1.21.1 in /usr/local/lib/python3.11/dist-packages (from requests->huggingface-hub>=0.13->faster_whisper) (2.3.0)\n",
            "Requirement already satisfied: certifi>=2017.4.17 in /usr/local/lib/python3.11/dist-packages (from requests->huggingface-hub>=0.13->faster_whisper) (2024.12.14)\n",
            "Requirement already satisfied: mpmath<1.4,>=1.1.0 in /usr/local/lib/python3.11/dist-packages (from sympy->onnxruntime<2,>=1.14->faster_whisper) (1.3.0)\n"
          ]
        }
      ]
    },
    {
      "cell_type": "markdown",
      "source": [
        "# Step 3 - 上传文件"
      ],
      "metadata": {
        "id": "8Nktz97iFmrx"
      }
    },
    {
      "cell_type": "code",
      "source": [
        "# 音频文件.mp3, .w4a， 视频格式.mp4均可\n",
        "\n",
        "FILE_NAME = 'bianxiangyi.mp3'"
      ],
      "metadata": {
        "id": "FGw3DIqMslRI"
      },
      "execution_count": 2,
      "outputs": []
    },
    {
      "cell_type": "code",
      "source": [
        "%%capture\n",
        "!pip install git+https://github.com/Hasan-Naseer/whisperX.git@release/latest-faster-whisper-version\n",
        "!pip install ctranslate2==4.4.0"
      ],
      "metadata": {
        "id": "l2wnD7YfTwMu"
      },
      "execution_count": 1,
      "outputs": []
    },
    {
      "cell_type": "markdown",
      "source": [
        "# Step 4 - 语音转文字"
      ],
      "metadata": {
        "id": "wajvoq1YGHo0"
      }
    },
    {
      "cell_type": "code",
      "source": [
        "%%time\n",
        "\n",
        "from faster_whisper import WhisperModel\n",
        "\n",
        "model = WhisperModel('large-v3', device = 'cuda', compute_type = 'float16')\n",
        "\n",
        "segments, info = model.transcribe(\n",
        "    FILE_NAME, #需要转换的文件\n",
        "    beam_size = 5, #Beam Search的参数默认值\n",
        "    vad_filter = True, #检测无声部分并跳过处理\n",
        "    without_timestamps = True, #去掉时间轴加快处理速度\n",
        "    )\n",
        "\n",
        "print(\"Detected language '%s' with probability %f\" % (info.language, info.language_probability))\n",
        "\n",
        "results = ''\n",
        "for segment in segments:\n",
        "    print(\"[%.2fs -> %.2fs] %s\" % (segment.start, segment.end, segment.text))\n",
        "    results += str(segment.text) + '/n'"
      ],
      "metadata": {
        "id": "Qa0xRvA7fNhf",
        "colab": {
          "base_uri": "https://localhost:8080/"
        },
        "outputId": "3d8a06ba-6aed-47be-fef0-aeee053878dc"
      },
      "execution_count": 3,
      "outputs": [
        {
          "output_type": "stream",
          "name": "stderr",
          "text": [
            "/usr/local/lib/python3.11/dist-packages/huggingface_hub/utils/_auth.py:94: UserWarning: \n",
            "The secret `HF_TOKEN` does not exist in your Colab secrets.\n",
            "To authenticate with the Hugging Face Hub, create a token in your settings tab (https://huggingface.co/settings/tokens), set it as secret in your Google Colab and restart your session.\n",
            "You will be able to reuse this secret in all of your notebooks.\n",
            "Please note that authentication is recommended but still optional to access public models or datasets.\n",
            "  warnings.warn(\n"
          ]
        },
        {
          "output_type": "stream",
          "name": "stdout",
          "text": [
            "Detected language 'zh' with probability 0.998535\n",
            "[0.00s -> 30.00s] 欢迎来到语说体育,今天咱们探讨一下变相翼在这次RG比赛决赛当中举报科杰这个事说的到底对不对呢首先明确一点,就第二场比赛如果不是变相翼的举报那么大概率就当时的形势来看科杰会以二比零的方式最终捧杯而换而且即便说第二场比赛科杰没赢但只要说没有第二场比赛对方的举报科杰的心态不受影响就也不会出现第三场比赛一开始那会儿科杰的重大失误因此最终的冠军还会是科杰的\n",
            "[30.00s -> 60.00s] 神子一手的方式拿到了围棋例子上有切仅有一个的举报得来的冠军而非通过自己的棋力可能说有些观众对于这种说法不认同那你看这个变相翼不也是围随了比赛的公正性吗毕竟规则都写在明面上,之前都定好了是你科杰围棋在写的又不是人家暗箱炒作做地起价你比如说篮球足球有些运动员在场上看到对方犯规之后裁判没水那也会跟裁判整的面浑而止\n",
            "[60.00s -> 90.00s] 还甚至破口大骂呢那不这不都是在比赛场上维护自身权力的一种表现吗因此变相翼他说这个科杰围棋了指出来给裁判看跟篮球足球场上那些主教练那些核心球员他们做的有什么区别呢那是不是说变相翼他做的对呢但是我感觉篮球足球啊他绝大部分那样一种场上的争执都出现在哪都出现的就这个事如果说你不管的话他是破坏比赛的公正性的他是影响比赛局面的有序前进\n",
            "[90.00s -> 120.00s] 有时候呢这个事如果你不管你在竞技层面你是吃了亏了的这种情况下那你当然得去履历证但是变相翼这个事呢他其实就是一个场外的因素这个事你即便不管也不影响两者之间在棋盘之内你俩的竞技呈现就是说你管了那只能说你利用了规则利用规则把对方拿下并未通过自己的棋力战胜对方甚至不武你要是不管呢其实对于你下这盘棋来讲也没什么其他影响\n",
            "[120.00s -> 150.00s] 变相翼这种跟那个篮球足球场那种还是两码事篮球足球场里面那些更多还是集中在场内发生的事实如果你不管他会影响比赛局面的但是变相翼这次他是影响不了比赛局面的因此我感觉这种举报呢他就显得差点意思还有第二点呢就是更让人感觉就变相翼啊他可能说这样一种竞技之心都值得让人怀疑就一般来讲顶级高手啊他享受的是什么呢他享受的不是\n",
            "[150.00s -> 180.00s] 真正追踪的排名或者说你比如说以我来讲我也抱有一颗竞技之心甚至就包括我打游戏的时候我也感觉呢自己要当一个真正的硬汉而不是说并非靠自己的方式去追踪取胜我希望看到的最终结果不是我战胜boss的事实而是我战胜boss的整个过程以及战胜boss之后形成的巨大的喜悦也就是说一个按照我理解一个真正具有竞技之心的一个竞技者他在比赛的时候他更多\n",
            "[180.00s -> 210.00s] 应该追求的是一种什么呢不是最终的排名结果而是说\n",
            "[210.00s -> 240.00s] 同时他有所损失什么损失呢那就是他浪费了一个拥有绝佳的舞台在这么高的比赛场合跟一个顶级高手之间正面交缝的难得的机会其实这种机会对于一个真正有竞技之心的人来说也是极其难得的机不可思识不在了你这次错过可能说未来指不定什么时候你才能够拥有下一次机会而这种机会摆在自己面前你的竞技之血是会沸腾的\n",
            "[240.00s -> 270.00s] 所以面对这种机会你会感觉爱不释手绝对不允许他人染指的你这会如果说真正是一个竞技大神的话你比如说篮球场上科比伯兰特当他在场上面对迈克尔乔丹他俩拥有绝佳的一对一机会的时候这会谁帮科比你是打科比的人科比不光不感谢你反而还会骂你因为人家享受的就是这一刻我愿意追求的就是跟对方一对一对垒交锋拥有这么一个舞台和机会所以边强毅他通过这种举报的方式\n",
            "[270.00s -> 300.00s] 得了一个排名但我感觉这种排名是枯燥的最终结果其实它是可笑的你从一个真正热爱竞技的玩家角度来讲他失去了三样一是正常来讲战斗过程当中的喜悦战斗取胜之后你那样一种巨大的满足感还有就是跟对方难得的在高峰会战这么一次机遇这三点他都失去了而所得恩无外乎就是一个枯燥的排名因此我感觉边强毅总结起来\n",
            "[300.00s -> 306.66s] 就是软银一个\n",
            "CPU times: user 48.4 s, sys: 3.4 s, total: 51.8 s\n",
            "Wall time: 47.1 s\n"
          ]
        }
      ]
    },
    {
      "cell_type": "markdown",
      "source": [
        "# Step 5 - 保存文本文件"
      ],
      "metadata": {
        "id": "zSDRd3-ut6Gw"
      }
    },
    {
      "cell_type": "code",
      "source": [
        "with open('OUTPUT.txt', 'w') as f:\n",
        "  f.write(results)"
      ],
      "metadata": {
        "id": "X9BYAfFKtcqN"
      },
      "execution_count": 4,
      "outputs": []
    },
    {
      "cell_type": "code",
      "source": [],
      "metadata": {
        "id": "RZOgEugZnNpR"
      },
      "execution_count": null,
      "outputs": []
    }
  ]
}